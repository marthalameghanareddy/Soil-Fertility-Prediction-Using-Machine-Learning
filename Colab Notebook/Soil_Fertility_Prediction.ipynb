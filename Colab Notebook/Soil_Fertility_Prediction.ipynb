{
  "nbformat": 4,
  "nbformat_minor": 0,
  "metadata": {
    "colab": {
      "name": "Soil_Fertility_Prediction.ipynb",
      "provenance": [],
      "collapsed_sections": []
    },
    "kernelspec": {
      "name": "python3",
      "display_name": "Python 3"
    },
    "language_info": {
      "name": "python"
    }
  },
  "cells": [
    {
      "cell_type": "markdown",
      "metadata": {
        "id": "yky1h4m6-Wfk"
      },
      "source": [
        " <h1>Including Necessary libraries</h1>"
      ]
    },
    {
      "cell_type": "code",
      "metadata": {
        "id": "EHkgrJlA-fiJ"
      },
      "source": [
        "import numpy as np\n",
        "import pandas as pd\n",
        "import matplotlib.pyplot as plt\n",
        "import pickle"
      ],
      "execution_count": null,
      "outputs": []
    },
    {
      "cell_type": "markdown",
      "metadata": {
        "id": "MGznq8fX-y5x"
      },
      "source": [
        "<h1>Importing Dataset</h1>"
      ]
    },
    {
      "cell_type": "code",
      "metadata": {
        "colab": {
          "base_uri": "https://localhost:8080/",
          "height": 932
        },
        "id": "Yztrk9Sm_LeL",
        "outputId": "f1c642df-5776-43f5-cf97-813d3626c49c"
      },
      "source": [
        "# reading data from excel sheet\n",
        "soil_data = pd.read_excel('soil_data.xlsx',header=None)\n",
        "\n",
        "# Viewing first few rows of dataset\n",
        "soil_data"
      ],
      "execution_count": null,
      "outputs": [
        {
          "output_type": "execute_result",
          "data": {
            "text/html": [
              "<div>\n",
              "<style scoped>\n",
              "    .dataframe tbody tr th:only-of-type {\n",
              "        vertical-align: middle;\n",
              "    }\n",
              "\n",
              "    .dataframe tbody tr th {\n",
              "        vertical-align: top;\n",
              "    }\n",
              "\n",
              "    .dataframe thead th {\n",
              "        text-align: right;\n",
              "    }\n",
              "</style>\n",
              "<table border=\"1\" class=\"dataframe\">\n",
              "  <thead>\n",
              "    <tr style=\"text-align: right;\">\n",
              "      <th></th>\n",
              "      <th>0</th>\n",
              "      <th>1</th>\n",
              "      <th>2</th>\n",
              "      <th>3</th>\n",
              "      <th>4</th>\n",
              "      <th>5</th>\n",
              "      <th>6</th>\n",
              "      <th>7</th>\n",
              "      <th>8</th>\n",
              "      <th>9</th>\n",
              "      <th>10</th>\n",
              "      <th>11</th>\n",
              "      <th>12</th>\n",
              "      <th>13</th>\n",
              "      <th>14</th>\n",
              "      <th>15</th>\n",
              "      <th>16</th>\n",
              "      <th>17</th>\n",
              "      <th>18</th>\n",
              "      <th>19</th>\n",
              "      <th>20</th>\n",
              "      <th>21</th>\n",
              "      <th>22</th>\n",
              "      <th>23</th>\n",
              "      <th>24</th>\n",
              "    </tr>\n",
              "  </thead>\n",
              "  <tbody>\n",
              "    <tr>\n",
              "      <th>0</th>\n",
              "      <td>Metadata - Soils Collection and Lab (Kuo) Anal...</td>\n",
              "      <td>NaN</td>\n",
              "      <td>NaN</td>\n",
              "      <td>NaN</td>\n",
              "      <td>NaN</td>\n",
              "      <td>NaN</td>\n",
              "      <td>NaN</td>\n",
              "      <td>NaN</td>\n",
              "      <td>NaN</td>\n",
              "      <td>NaN</td>\n",
              "      <td>NaN</td>\n",
              "      <td>NaN</td>\n",
              "      <td>NaN</td>\n",
              "      <td>NaN</td>\n",
              "      <td>NaN</td>\n",
              "      <td>NaN</td>\n",
              "      <td>NaN</td>\n",
              "      <td>NaN</td>\n",
              "      <td>NaN</td>\n",
              "      <td>NaN</td>\n",
              "      <td>NaN</td>\n",
              "      <td>NaN</td>\n",
              "      <td>NaN</td>\n",
              "      <td>NaN</td>\n",
              "      <td>NaN</td>\n",
              "    </tr>\n",
              "    <tr>\n",
              "      <th>1</th>\n",
              "      <td>Sample</td>\n",
              "      <td>DIR.</td>\n",
              "      <td>INT/EXT</td>\n",
              "      <td>Sub- Sample #</td>\n",
              "      <td>Date</td>\n",
              "      <td>Time</td>\n",
              "      <td>Latitude</td>\n",
              "      <td>Longitude</td>\n",
              "      <td>Slope</td>\n",
              "      <td>Aspect</td>\n",
              "      <td>%  Veg. Cover</td>\n",
              "      <td>NO3-N (ppm)</td>\n",
              "      <td>NH4-N (ppm)</td>\n",
              "      <td>P    Bicar (ppm)</td>\n",
              "      <td>K    Acet (ppm)</td>\n",
              "      <td>SO4-S    (ppm)</td>\n",
              "      <td>B (ppm)</td>\n",
              "      <td>Organic Matter %</td>\n",
              "      <td>pH</td>\n",
              "      <td>Zn  (ppm)</td>\n",
              "      <td>Cu  (ppm)</td>\n",
              "      <td>Fe  (ppm)</td>\n",
              "      <td>Ca (meq/100g)</td>\n",
              "      <td>Mg (meq/100g)</td>\n",
              "      <td>Na (meq/100g)</td>\n",
              "    </tr>\n",
              "    <tr>\n",
              "      <th>2</th>\n",
              "      <td>1</td>\n",
              "      <td>NW</td>\n",
              "      <td>INT</td>\n",
              "      <td>1</td>\n",
              "      <td>2012-06-04 00:00:00</td>\n",
              "      <td>13:50:00</td>\n",
              "      <td>N25.77485</td>\n",
              "      <td>W171.73539</td>\n",
              "      <td>2</td>\n",
              "      <td>92</td>\n",
              "      <td>100</td>\n",
              "      <td>23</td>\n",
              "      <td>2.25</td>\n",
              "      <td>101</td>\n",
              "      <td>32</td>\n",
              "      <td>12</td>\n",
              "      <td>0.71</td>\n",
              "      <td>0.96</td>\n",
              "      <td>7.8</td>\n",
              "      <td>1.7</td>\n",
              "      <td>0.3</td>\n",
              "      <td>4</td>\n",
              "      <td>6.6</td>\n",
              "      <td>0.8</td>\n",
              "      <td>0.12</td>\n",
              "    </tr>\n",
              "    <tr>\n",
              "      <th>3</th>\n",
              "      <td>2</td>\n",
              "      <td>NW</td>\n",
              "      <td>INT</td>\n",
              "      <td>2</td>\n",
              "      <td>2012-06-04 00:00:00</td>\n",
              "      <td>14:43:00</td>\n",
              "      <td>N25.77774</td>\n",
              "      <td>W171.73643</td>\n",
              "      <td>1</td>\n",
              "      <td>167</td>\n",
              "      <td>95</td>\n",
              "      <td>6</td>\n",
              "      <td>0.75</td>\n",
              "      <td>58</td>\n",
              "      <td>10</td>\n",
              "      <td>7</td>\n",
              "      <td>0.27</td>\n",
              "      <td>0.3</td>\n",
              "      <td>8.2</td>\n",
              "      <td>0.8</td>\n",
              "      <td>0.1</td>\n",
              "      <td>1</td>\n",
              "      <td>5</td>\n",
              "      <td>0.5</td>\n",
              "      <td>0.07</td>\n",
              "    </tr>\n",
              "    <tr>\n",
              "      <th>4</th>\n",
              "      <td>3</td>\n",
              "      <td>NW</td>\n",
              "      <td>INT</td>\n",
              "      <td>3</td>\n",
              "      <td>2012-06-04 00:00:00</td>\n",
              "      <td>14:10:00</td>\n",
              "      <td>N25.77628</td>\n",
              "      <td>W171.73480</td>\n",
              "      <td>5</td>\n",
              "      <td>75</td>\n",
              "      <td>98</td>\n",
              "      <td>7.25</td>\n",
              "      <td>1</td>\n",
              "      <td>115</td>\n",
              "      <td>8</td>\n",
              "      <td>10</td>\n",
              "      <td>0.56</td>\n",
              "      <td>0.62</td>\n",
              "      <td>7.9</td>\n",
              "      <td>1.4</td>\n",
              "      <td>0.2</td>\n",
              "      <td>2</td>\n",
              "      <td>5.2</td>\n",
              "      <td>0.4</td>\n",
              "      <td>0.04</td>\n",
              "    </tr>\n",
              "    <tr>\n",
              "      <th>...</th>\n",
              "      <td>...</td>\n",
              "      <td>...</td>\n",
              "      <td>...</td>\n",
              "      <td>...</td>\n",
              "      <td>...</td>\n",
              "      <td>...</td>\n",
              "      <td>...</td>\n",
              "      <td>...</td>\n",
              "      <td>...</td>\n",
              "      <td>...</td>\n",
              "      <td>...</td>\n",
              "      <td>...</td>\n",
              "      <td>...</td>\n",
              "      <td>...</td>\n",
              "      <td>...</td>\n",
              "      <td>...</td>\n",
              "      <td>...</td>\n",
              "      <td>...</td>\n",
              "      <td>...</td>\n",
              "      <td>...</td>\n",
              "      <td>...</td>\n",
              "      <td>...</td>\n",
              "      <td>...</td>\n",
              "      <td>...</td>\n",
              "      <td>...</td>\n",
              "    </tr>\n",
              "    <tr>\n",
              "      <th>417</th>\n",
              "      <td>Longitude</td>\n",
              "      <td>Longitude for sample location in decimal degrees</td>\n",
              "      <td>NaN</td>\n",
              "      <td>NaN</td>\n",
              "      <td>NaN</td>\n",
              "      <td>NaN</td>\n",
              "      <td>NaN</td>\n",
              "      <td>NaN</td>\n",
              "      <td>NaN</td>\n",
              "      <td>NaN</td>\n",
              "      <td>NaN</td>\n",
              "      <td>NaN</td>\n",
              "      <td>NaN</td>\n",
              "      <td>NaN</td>\n",
              "      <td>NaN</td>\n",
              "      <td>NaN</td>\n",
              "      <td>NaN</td>\n",
              "      <td>NaN</td>\n",
              "      <td>NaN</td>\n",
              "      <td>NaN</td>\n",
              "      <td>NaN</td>\n",
              "      <td>NaN</td>\n",
              "      <td>NaN</td>\n",
              "      <td>NaN</td>\n",
              "      <td>NaN</td>\n",
              "    </tr>\n",
              "    <tr>\n",
              "      <th>418</th>\n",
              "      <td>Slope</td>\n",
              "      <td>Slope of the ground at sample location, in deg...</td>\n",
              "      <td>NaN</td>\n",
              "      <td>NaN</td>\n",
              "      <td>NaN</td>\n",
              "      <td>NaN</td>\n",
              "      <td>NaN</td>\n",
              "      <td>NaN</td>\n",
              "      <td>NaN</td>\n",
              "      <td>NaN</td>\n",
              "      <td>NaN</td>\n",
              "      <td>NaN</td>\n",
              "      <td>NaN</td>\n",
              "      <td>NaN</td>\n",
              "      <td>NaN</td>\n",
              "      <td>NaN</td>\n",
              "      <td>NaN</td>\n",
              "      <td>NaN</td>\n",
              "      <td>NaN</td>\n",
              "      <td>NaN</td>\n",
              "      <td>NaN</td>\n",
              "      <td>NaN</td>\n",
              "      <td>NaN</td>\n",
              "      <td>NaN</td>\n",
              "      <td>NaN</td>\n",
              "    </tr>\n",
              "    <tr>\n",
              "      <th>419</th>\n",
              "      <td>Aspect</td>\n",
              "      <td>Directoin the slope face at sample location, i...</td>\n",
              "      <td>NaN</td>\n",
              "      <td>NaN</td>\n",
              "      <td>NaN</td>\n",
              "      <td>NaN</td>\n",
              "      <td>NaN</td>\n",
              "      <td>NaN</td>\n",
              "      <td>NaN</td>\n",
              "      <td>NaN</td>\n",
              "      <td>NaN</td>\n",
              "      <td>NaN</td>\n",
              "      <td>NaN</td>\n",
              "      <td>NaN</td>\n",
              "      <td>NaN</td>\n",
              "      <td>NaN</td>\n",
              "      <td>NaN</td>\n",
              "      <td>NaN</td>\n",
              "      <td>NaN</td>\n",
              "      <td>NaN</td>\n",
              "      <td>NaN</td>\n",
              "      <td>NaN</td>\n",
              "      <td>NaN</td>\n",
              "      <td>NaN</td>\n",
              "      <td>NaN</td>\n",
              "    </tr>\n",
              "    <tr>\n",
              "      <th>420</th>\n",
              "      <td>% Veg. Cover</td>\n",
              "      <td>Percent vegetative cover of the 102m area surr...</td>\n",
              "      <td>NaN</td>\n",
              "      <td>NaN</td>\n",
              "      <td>NaN</td>\n",
              "      <td>NaN</td>\n",
              "      <td>NaN</td>\n",
              "      <td>NaN</td>\n",
              "      <td>NaN</td>\n",
              "      <td>NaN</td>\n",
              "      <td>NaN</td>\n",
              "      <td>NaN</td>\n",
              "      <td>NaN</td>\n",
              "      <td>NaN</td>\n",
              "      <td>NaN</td>\n",
              "      <td>NaN</td>\n",
              "      <td>NaN</td>\n",
              "      <td>NaN</td>\n",
              "      <td>NaN</td>\n",
              "      <td>NaN</td>\n",
              "      <td>NaN</td>\n",
              "      <td>NaN</td>\n",
              "      <td>NaN</td>\n",
              "      <td>NaN</td>\n",
              "      <td>NaN</td>\n",
              "    </tr>\n",
              "    <tr>\n",
              "      <th>421</th>\n",
              "      <td>Remainder of Headings</td>\n",
              "      <td>Testing parameters</td>\n",
              "      <td>NaN</td>\n",
              "      <td>NaN</td>\n",
              "      <td>NaN</td>\n",
              "      <td>NaN</td>\n",
              "      <td>NaN</td>\n",
              "      <td>NaN</td>\n",
              "      <td>NaN</td>\n",
              "      <td>NaN</td>\n",
              "      <td>NaN</td>\n",
              "      <td>NaN</td>\n",
              "      <td>NaN</td>\n",
              "      <td>NaN</td>\n",
              "      <td>NaN</td>\n",
              "      <td>NaN</td>\n",
              "      <td>NaN</td>\n",
              "      <td>NaN</td>\n",
              "      <td>NaN</td>\n",
              "      <td>NaN</td>\n",
              "      <td>NaN</td>\n",
              "      <td>NaN</td>\n",
              "      <td>NaN</td>\n",
              "      <td>NaN</td>\n",
              "      <td>NaN</td>\n",
              "    </tr>\n",
              "  </tbody>\n",
              "</table>\n",
              "<p>422 rows × 25 columns</p>\n",
              "</div>"
            ],
            "text/plain": [
              "                                                    0   ...             24\n",
              "0    Metadata - Soils Collection and Lab (Kuo) Anal...  ...            NaN\n",
              "1                                              Sample   ...  Na (meq/100g)\n",
              "2                                                    1  ...           0.12\n",
              "3                                                    2  ...           0.07\n",
              "4                                                    3  ...           0.04\n",
              "..                                                 ...  ...            ...\n",
              "417                                          Longitude  ...            NaN\n",
              "418                                              Slope  ...            NaN\n",
              "419                                             Aspect  ...            NaN\n",
              "420                                       % Veg. Cover  ...            NaN\n",
              "421                              Remainder of Headings  ...            NaN\n",
              "\n",
              "[422 rows x 25 columns]"
            ]
          },
          "metadata": {
            "tags": []
          },
          "execution_count": 20
        }
      ]
    },
    {
      "cell_type": "markdown",
      "metadata": {
        "id": "zw5HHXWbDk_d"
      },
      "source": [
        "<h1>Preprocessing Data</h1>"
      ]
    },
    {
      "cell_type": "code",
      "metadata": {
        "colab": {
          "base_uri": "https://localhost:8080/",
          "height": 200
        },
        "id": "1Gz8NoWgDpQq",
        "outputId": "cbca10a3-04e1-4166-f710-872efa3dee48"
      },
      "source": [
        "# removing unnecessary columns and rows that do not contains data\n",
        "soil_data = soil_data.drop(np.arange(310,322),axis=0)\n",
        "soil_data = soil_data.drop([0,1],axis=0)\n",
        "soil_data = soil_data.drop(np.arange(0,10),axis=1)\n",
        "\n",
        "#renaming column names and units of each attributes\n",
        "column_names = ['Vegetation Cover','NO3','NH4','P','K','SO4','B','Organic Matter','pH','Zn','Cu','Fe','Ca','Mg','Na']\n",
        "attribute_units = ['%age','ppm','ppm','ppm','ppm','ppm','ppm',\"%age\",'pH','ppm','ppm','ppm','meq/100g','meq/100g','meq/100g']\n",
        "\n",
        "\n",
        "#assuring length of column and attribute_units is same\n",
        "assert(len(attribute_units) == len(column_names))\n",
        "\n",
        "\n",
        "#creating new dataframe with column name\n",
        "soil_data = pd.DataFrame(soil_data.values,columns=column_names)\n",
        "\n",
        "#viewing final data frame\n",
        "soil_data.head()\n"
      ],
      "execution_count": null,
      "outputs": [
        {
          "output_type": "execute_result",
          "data": {
            "text/html": [
              "<div>\n",
              "<style scoped>\n",
              "    .dataframe tbody tr th:only-of-type {\n",
              "        vertical-align: middle;\n",
              "    }\n",
              "\n",
              "    .dataframe tbody tr th {\n",
              "        vertical-align: top;\n",
              "    }\n",
              "\n",
              "    .dataframe thead th {\n",
              "        text-align: right;\n",
              "    }\n",
              "</style>\n",
              "<table border=\"1\" class=\"dataframe\">\n",
              "  <thead>\n",
              "    <tr style=\"text-align: right;\">\n",
              "      <th></th>\n",
              "      <th>Vegetation Cover</th>\n",
              "      <th>NO3</th>\n",
              "      <th>NH4</th>\n",
              "      <th>P</th>\n",
              "      <th>K</th>\n",
              "      <th>SO4</th>\n",
              "      <th>B</th>\n",
              "      <th>Organic Matter</th>\n",
              "      <th>pH</th>\n",
              "      <th>Zn</th>\n",
              "      <th>Cu</th>\n",
              "      <th>Fe</th>\n",
              "      <th>Ca</th>\n",
              "      <th>Mg</th>\n",
              "      <th>Na</th>\n",
              "    </tr>\n",
              "  </thead>\n",
              "  <tbody>\n",
              "    <tr>\n",
              "      <th>0</th>\n",
              "      <td>100</td>\n",
              "      <td>23</td>\n",
              "      <td>2.25</td>\n",
              "      <td>101</td>\n",
              "      <td>32</td>\n",
              "      <td>12</td>\n",
              "      <td>0.71</td>\n",
              "      <td>0.96</td>\n",
              "      <td>7.8</td>\n",
              "      <td>1.7</td>\n",
              "      <td>0.3</td>\n",
              "      <td>4</td>\n",
              "      <td>6.6</td>\n",
              "      <td>0.8</td>\n",
              "      <td>0.12</td>\n",
              "    </tr>\n",
              "    <tr>\n",
              "      <th>1</th>\n",
              "      <td>95</td>\n",
              "      <td>6</td>\n",
              "      <td>0.75</td>\n",
              "      <td>58</td>\n",
              "      <td>10</td>\n",
              "      <td>7</td>\n",
              "      <td>0.27</td>\n",
              "      <td>0.3</td>\n",
              "      <td>8.2</td>\n",
              "      <td>0.8</td>\n",
              "      <td>0.1</td>\n",
              "      <td>1</td>\n",
              "      <td>5</td>\n",
              "      <td>0.5</td>\n",
              "      <td>0.07</td>\n",
              "    </tr>\n",
              "    <tr>\n",
              "      <th>2</th>\n",
              "      <td>98</td>\n",
              "      <td>7.25</td>\n",
              "      <td>1</td>\n",
              "      <td>115</td>\n",
              "      <td>8</td>\n",
              "      <td>10</td>\n",
              "      <td>0.56</td>\n",
              "      <td>0.62</td>\n",
              "      <td>7.9</td>\n",
              "      <td>1.4</td>\n",
              "      <td>0.2</td>\n",
              "      <td>2</td>\n",
              "      <td>5.2</td>\n",
              "      <td>0.4</td>\n",
              "      <td>0.04</td>\n",
              "    </tr>\n",
              "    <tr>\n",
              "      <th>3</th>\n",
              "      <td>100</td>\n",
              "      <td>21</td>\n",
              "      <td>1.25</td>\n",
              "      <td>130</td>\n",
              "      <td>30</td>\n",
              "      <td>13</td>\n",
              "      <td>0.78</td>\n",
              "      <td>1.04</td>\n",
              "      <td>7.9</td>\n",
              "      <td>1.8</td>\n",
              "      <td>0.3</td>\n",
              "      <td>2</td>\n",
              "      <td>6.1</td>\n",
              "      <td>0.7</td>\n",
              "      <td>0.1</td>\n",
              "    </tr>\n",
              "    <tr>\n",
              "      <th>4</th>\n",
              "      <td>15</td>\n",
              "      <td>1.75</td>\n",
              "      <td>0.5</td>\n",
              "      <td>17</td>\n",
              "      <td>4</td>\n",
              "      <td>6</td>\n",
              "      <td>0.25</td>\n",
              "      <td>0.1</td>\n",
              "      <td>8.8</td>\n",
              "      <td>0.3</td>\n",
              "      <td>0.1</td>\n",
              "      <td>1</td>\n",
              "      <td>4.7</td>\n",
              "      <td>0.5</td>\n",
              "      <td>0.1</td>\n",
              "    </tr>\n",
              "  </tbody>\n",
              "</table>\n",
              "</div>"
            ],
            "text/plain": [
              "  Vegetation Cover   NO3   NH4    P   K SO4  ...   Zn   Cu Fe   Ca   Mg    Na\n",
              "0              100    23  2.25  101  32  12  ...  1.7  0.3  4  6.6  0.8  0.12\n",
              "1               95     6  0.75   58  10   7  ...  0.8  0.1  1    5  0.5  0.07\n",
              "2               98  7.25     1  115   8  10  ...  1.4  0.2  2  5.2  0.4  0.04\n",
              "3              100    21  1.25  130  30  13  ...  1.8  0.3  2  6.1  0.7   0.1\n",
              "4               15  1.75   0.5   17   4   6  ...  0.3  0.1  1  4.7  0.5   0.1\n",
              "\n",
              "[5 rows x 15 columns]"
            ]
          },
          "metadata": {
            "tags": []
          },
          "execution_count": 21
        }
      ]
    },
    {
      "cell_type": "code",
      "metadata": {
        "colab": {
          "base_uri": "https://localhost:8080/"
        },
        "id": "OhkcIfjDrreG",
        "outputId": "b00880e0-42e6-4572-b814-b1072e23e7cf"
      },
      "source": [
        "soil_data.isna().sum()"
      ],
      "execution_count": null,
      "outputs": [
        {
          "output_type": "execute_result",
          "data": {
            "text/plain": [
              "Vegetation Cover    25\n",
              "NO3                 26\n",
              "NH4                 14\n",
              "P                   18\n",
              "K                   17\n",
              "SO4                 13\n",
              "B                   14\n",
              "Organic Matter      14\n",
              "pH                  15\n",
              "Zn                  17\n",
              "Cu                  13\n",
              "Fe                  13\n",
              "Ca                  14\n",
              "Mg                  12\n",
              "Na                  18\n",
              "dtype: int64"
            ]
          },
          "metadata": {
            "tags": []
          },
          "execution_count": 22
        }
      ]
    },
    {
      "cell_type": "code",
      "metadata": {
        "colab": {
          "base_uri": "https://localhost:8080/",
          "height": 408
        },
        "id": "ItoLicAErgIB",
        "outputId": "96c482eb-9a31-424a-d0f6-473833e98c3a"
      },
      "source": [
        "soil_data.fillna(0)"
      ],
      "execution_count": null,
      "outputs": [
        {
          "output_type": "execute_result",
          "data": {
            "text/html": [
              "<div>\n",
              "<style scoped>\n",
              "    .dataframe tbody tr th:only-of-type {\n",
              "        vertical-align: middle;\n",
              "    }\n",
              "\n",
              "    .dataframe tbody tr th {\n",
              "        vertical-align: top;\n",
              "    }\n",
              "\n",
              "    .dataframe thead th {\n",
              "        text-align: right;\n",
              "    }\n",
              "</style>\n",
              "<table border=\"1\" class=\"dataframe\">\n",
              "  <thead>\n",
              "    <tr style=\"text-align: right;\">\n",
              "      <th></th>\n",
              "      <th>Vegetation Cover</th>\n",
              "      <th>NO3</th>\n",
              "      <th>NH4</th>\n",
              "      <th>P</th>\n",
              "      <th>K</th>\n",
              "      <th>SO4</th>\n",
              "      <th>B</th>\n",
              "      <th>Organic Matter</th>\n",
              "      <th>pH</th>\n",
              "      <th>Zn</th>\n",
              "      <th>Cu</th>\n",
              "      <th>Fe</th>\n",
              "      <th>Ca</th>\n",
              "      <th>Mg</th>\n",
              "      <th>Na</th>\n",
              "    </tr>\n",
              "  </thead>\n",
              "  <tbody>\n",
              "    <tr>\n",
              "      <th>0</th>\n",
              "      <td>100</td>\n",
              "      <td>23.00</td>\n",
              "      <td>2.25</td>\n",
              "      <td>101</td>\n",
              "      <td>32</td>\n",
              "      <td>12</td>\n",
              "      <td>0.71</td>\n",
              "      <td>0.96</td>\n",
              "      <td>7.8</td>\n",
              "      <td>1.7</td>\n",
              "      <td>0.3</td>\n",
              "      <td>4</td>\n",
              "      <td>6.6</td>\n",
              "      <td>0.8</td>\n",
              "      <td>0.12</td>\n",
              "    </tr>\n",
              "    <tr>\n",
              "      <th>1</th>\n",
              "      <td>95</td>\n",
              "      <td>6.00</td>\n",
              "      <td>0.75</td>\n",
              "      <td>58</td>\n",
              "      <td>10</td>\n",
              "      <td>7</td>\n",
              "      <td>0.27</td>\n",
              "      <td>0.30</td>\n",
              "      <td>8.2</td>\n",
              "      <td>0.8</td>\n",
              "      <td>0.1</td>\n",
              "      <td>1</td>\n",
              "      <td>5.0</td>\n",
              "      <td>0.5</td>\n",
              "      <td>0.07</td>\n",
              "    </tr>\n",
              "    <tr>\n",
              "      <th>2</th>\n",
              "      <td>98</td>\n",
              "      <td>7.25</td>\n",
              "      <td>1.00</td>\n",
              "      <td>115</td>\n",
              "      <td>8</td>\n",
              "      <td>10</td>\n",
              "      <td>0.56</td>\n",
              "      <td>0.62</td>\n",
              "      <td>7.9</td>\n",
              "      <td>1.4</td>\n",
              "      <td>0.2</td>\n",
              "      <td>2</td>\n",
              "      <td>5.2</td>\n",
              "      <td>0.4</td>\n",
              "      <td>0.04</td>\n",
              "    </tr>\n",
              "    <tr>\n",
              "      <th>3</th>\n",
              "      <td>100</td>\n",
              "      <td>21.00</td>\n",
              "      <td>1.25</td>\n",
              "      <td>130</td>\n",
              "      <td>30</td>\n",
              "      <td>13</td>\n",
              "      <td>0.78</td>\n",
              "      <td>1.04</td>\n",
              "      <td>7.9</td>\n",
              "      <td>1.8</td>\n",
              "      <td>0.3</td>\n",
              "      <td>2</td>\n",
              "      <td>6.1</td>\n",
              "      <td>0.7</td>\n",
              "      <td>0.10</td>\n",
              "    </tr>\n",
              "    <tr>\n",
              "      <th>4</th>\n",
              "      <td>15</td>\n",
              "      <td>1.75</td>\n",
              "      <td>0.50</td>\n",
              "      <td>17</td>\n",
              "      <td>4</td>\n",
              "      <td>6</td>\n",
              "      <td>0.25</td>\n",
              "      <td>0.10</td>\n",
              "      <td>8.8</td>\n",
              "      <td>0.3</td>\n",
              "      <td>0.1</td>\n",
              "      <td>1</td>\n",
              "      <td>4.7</td>\n",
              "      <td>0.5</td>\n",
              "      <td>0.10</td>\n",
              "    </tr>\n",
              "    <tr>\n",
              "      <th>...</th>\n",
              "      <td>...</td>\n",
              "      <td>...</td>\n",
              "      <td>...</td>\n",
              "      <td>...</td>\n",
              "      <td>...</td>\n",
              "      <td>...</td>\n",
              "      <td>...</td>\n",
              "      <td>...</td>\n",
              "      <td>...</td>\n",
              "      <td>...</td>\n",
              "      <td>...</td>\n",
              "      <td>...</td>\n",
              "      <td>...</td>\n",
              "      <td>...</td>\n",
              "      <td>...</td>\n",
              "    </tr>\n",
              "    <tr>\n",
              "      <th>403</th>\n",
              "      <td>0</td>\n",
              "      <td>0.00</td>\n",
              "      <td>0.00</td>\n",
              "      <td>0</td>\n",
              "      <td>0</td>\n",
              "      <td>0</td>\n",
              "      <td>0.00</td>\n",
              "      <td>0.00</td>\n",
              "      <td>0.0</td>\n",
              "      <td>0.0</td>\n",
              "      <td>0.0</td>\n",
              "      <td>0</td>\n",
              "      <td>0.0</td>\n",
              "      <td>0.0</td>\n",
              "      <td>0.00</td>\n",
              "    </tr>\n",
              "    <tr>\n",
              "      <th>404</th>\n",
              "      <td>0</td>\n",
              "      <td>0.00</td>\n",
              "      <td>0.00</td>\n",
              "      <td>0</td>\n",
              "      <td>0</td>\n",
              "      <td>0</td>\n",
              "      <td>0.00</td>\n",
              "      <td>0.00</td>\n",
              "      <td>0.0</td>\n",
              "      <td>0.0</td>\n",
              "      <td>0.0</td>\n",
              "      <td>0</td>\n",
              "      <td>0.0</td>\n",
              "      <td>0.0</td>\n",
              "      <td>0.00</td>\n",
              "    </tr>\n",
              "    <tr>\n",
              "      <th>405</th>\n",
              "      <td>0</td>\n",
              "      <td>0.00</td>\n",
              "      <td>0.00</td>\n",
              "      <td>0</td>\n",
              "      <td>0</td>\n",
              "      <td>0</td>\n",
              "      <td>0.00</td>\n",
              "      <td>0.00</td>\n",
              "      <td>0.0</td>\n",
              "      <td>0.0</td>\n",
              "      <td>0.0</td>\n",
              "      <td>0</td>\n",
              "      <td>0.0</td>\n",
              "      <td>0.0</td>\n",
              "      <td>0.00</td>\n",
              "    </tr>\n",
              "    <tr>\n",
              "      <th>406</th>\n",
              "      <td>0</td>\n",
              "      <td>0.00</td>\n",
              "      <td>0.00</td>\n",
              "      <td>0</td>\n",
              "      <td>0</td>\n",
              "      <td>0</td>\n",
              "      <td>0.00</td>\n",
              "      <td>0.00</td>\n",
              "      <td>0.0</td>\n",
              "      <td>0.0</td>\n",
              "      <td>0.0</td>\n",
              "      <td>0</td>\n",
              "      <td>0.0</td>\n",
              "      <td>0.0</td>\n",
              "      <td>0.00</td>\n",
              "    </tr>\n",
              "    <tr>\n",
              "      <th>407</th>\n",
              "      <td>0</td>\n",
              "      <td>0.00</td>\n",
              "      <td>0.00</td>\n",
              "      <td>0</td>\n",
              "      <td>0</td>\n",
              "      <td>0</td>\n",
              "      <td>0.00</td>\n",
              "      <td>0.00</td>\n",
              "      <td>0.0</td>\n",
              "      <td>0.0</td>\n",
              "      <td>0.0</td>\n",
              "      <td>0</td>\n",
              "      <td>0.0</td>\n",
              "      <td>0.0</td>\n",
              "      <td>0.00</td>\n",
              "    </tr>\n",
              "  </tbody>\n",
              "</table>\n",
              "<p>408 rows × 15 columns</p>\n",
              "</div>"
            ],
            "text/plain": [
              "     Vegetation Cover    NO3   NH4    P   K  SO4  ...   Zn   Cu  Fe   Ca   Mg    Na\n",
              "0                 100  23.00  2.25  101  32   12  ...  1.7  0.3   4  6.6  0.8  0.12\n",
              "1                  95   6.00  0.75   58  10    7  ...  0.8  0.1   1  5.0  0.5  0.07\n",
              "2                  98   7.25  1.00  115   8   10  ...  1.4  0.2   2  5.2  0.4  0.04\n",
              "3                 100  21.00  1.25  130  30   13  ...  1.8  0.3   2  6.1  0.7  0.10\n",
              "4                  15   1.75  0.50   17   4    6  ...  0.3  0.1   1  4.7  0.5  0.10\n",
              "..                ...    ...   ...  ...  ..  ...  ...  ...  ...  ..  ...  ...   ...\n",
              "403                 0   0.00  0.00    0   0    0  ...  0.0  0.0   0  0.0  0.0  0.00\n",
              "404                 0   0.00  0.00    0   0    0  ...  0.0  0.0   0  0.0  0.0  0.00\n",
              "405                 0   0.00  0.00    0   0    0  ...  0.0  0.0   0  0.0  0.0  0.00\n",
              "406                 0   0.00  0.00    0   0    0  ...  0.0  0.0   0  0.0  0.0  0.00\n",
              "407                 0   0.00  0.00    0   0    0  ...  0.0  0.0   0  0.0  0.0  0.00\n",
              "\n",
              "[408 rows x 15 columns]"
            ]
          },
          "metadata": {
            "tags": []
          },
          "execution_count": 23
        }
      ]
    },
    {
      "cell_type": "code",
      "metadata": {
        "colab": {
          "base_uri": "https://localhost:8080/"
        },
        "id": "1RwrVVsBrqHw",
        "outputId": "86967dd6-b664-4482-940f-e42b11bfeeea"
      },
      "source": [
        "from numpy import nan\n",
        "from numpy import isnan\n",
        "from sklearn.impute import SimpleImputer\n",
        "imputer = SimpleImputer(missing_values=nan, strategy='median')\n",
        "# transform the dataset\n",
        "transformed_values = imputer.fit_transform(soil_data)\n",
        "# count the number of NaN values in each column\n",
        "print('Missing: %d' % isnan(transformed_values).sum())"
      ],
      "execution_count": null,
      "outputs": [
        {
          "output_type": "stream",
          "text": [
            "Missing: 0\n"
          ],
          "name": "stdout"
        }
      ]
    },
    {
      "cell_type": "code",
      "metadata": {
        "colab": {
          "base_uri": "https://localhost:8080/"
        },
        "id": "lAR3lejyttjQ",
        "outputId": "037d9268-0cb1-4644-c08c-34c4355b4774"
      },
      "source": [
        "soil_data= pd.DataFrame(transformed_values,columns=column_names)\n",
        "soil_data.isna().sum()"
      ],
      "execution_count": null,
      "outputs": [
        {
          "output_type": "execute_result",
          "data": {
            "text/plain": [
              "Vegetation Cover    0\n",
              "NO3                 0\n",
              "NH4                 0\n",
              "P                   0\n",
              "K                   0\n",
              "SO4                 0\n",
              "B                   0\n",
              "Organic Matter      0\n",
              "pH                  0\n",
              "Zn                  0\n",
              "Cu                  0\n",
              "Fe                  0\n",
              "Ca                  0\n",
              "Mg                  0\n",
              "Na                  0\n",
              "dtype: int64"
            ]
          },
          "metadata": {
            "tags": []
          },
          "execution_count": 25
        }
      ]
    },
    {
      "cell_type": "markdown",
      "metadata": {
        "id": "nAxvrDv_ZlUt"
      },
      "source": [
        "Saving the Preprocessed Data set"
      ]
    },
    {
      "cell_type": "code",
      "metadata": {
        "id": "NBRo6k_yZr5E"
      },
      "source": [
        "soil_data.to_csv(r'processed_data_set.csv', index=False)"
      ],
      "execution_count": null,
      "outputs": []
    },
    {
      "cell_type": "markdown",
      "metadata": {
        "id": "PuBX-3zaiLMk"
      },
      "source": [
        "<h1>Data Visualization</h1>"
      ]
    },
    {
      "cell_type": "code",
      "metadata": {
        "colab": {
          "base_uri": "https://localhost:8080/",
          "height": 1000
        },
        "id": "2gEiiIzAiPzE",
        "outputId": "31a93dd9-f68f-4e81-806a-71efbbe8100e"
      },
      "source": [
        "import seaborn as sns\n",
        "\n",
        "\n",
        "#pair plots\n",
        "pairplot1 = sns.pairplot(soil_data,x_vars=soil_data.columns[1:6],y_vars=['Vegetation Cover'])\n",
        "plt.show()\n",
        "\n",
        "pairplot2 = sns.pairplot(soil_data,x_vars=soil_data.columns[6:11],y_vars=['Vegetation Cover'])\n",
        "plt.show()\n",
        "\n",
        "pairplot3 = sns.pairplot(soil_data,x_vars=soil_data.columns[11:15],y_vars=['Vegetation Cover'])\n",
        "plt.show()\n",
        "\n",
        "\n",
        "\n",
        "\n",
        "# getting coeralation values\n",
        "values = soil_data.corr()\n",
        "# plotting values\n",
        "plt.figure(figsize=(10,8))\n",
        "sns.heatmap(values,annot=False)"
      ],
      "execution_count": null,
      "outputs": [
        {
          "output_type": "display_data",
          "data": {
            "image/png": "[encoded data removed]",
            "text/plain": [
              "<Figure size 900x180 with 5 Axes>"
            ]
          },
          "metadata": {
            "tags": [],
            "needs_background": "light"
          }
        },
        {
          "output_type": "display_data",
          "data": {
            "image/png": "[encoded data removed]",
            "text/plain": [
              "<Figure size 900x180 with 5 Axes>"
            ]
          },
          "metadata": {
            "tags": [],
            "needs_background": "light"
          }
        },
        {
          "output_type": "display_data",
          "data": {
            "image/png": "[encoded data removed]",
            "text/plain": [
              "<Figure size 720x180 with 4 Axes>"
            ]
          },
          "metadata": {
            "tags": [],
            "needs_background": "light"
          }
        },
        {
          "output_type": "execute_result",
          "data": {
            "text/plain": [
              "<matplotlib.axes._subplots.AxesSubplot at 0x7f979742e550>"
            ]
          },
          "metadata": {
            "tags": []
          },
          "execution_count": 27
        },
        {
          "output_type": "display_data",
          "data": {
            "image/png": "[encoded data removed]",
            "text/plain": [
              "<Figure size 720x576 with 2 Axes>"
            ]
          },
          "metadata": {
            "tags": [],
            "needs_background": "light"
          }
        }
      ]
    },
    {
      "cell_type": "markdown",
      "metadata": {
        "id": "bzBA9JN_D_Hq"
      },
      "source": [
        "<h1>Visualizing result of corelation matrix</h1>"
      ]
    },
    {
      "cell_type": "markdown",
      "metadata": {
        "id": "QGuWObTdERES"
      },
      "source": [
        "It is clear from above matrix that Vegetation Cover is highly depends on pH."
      ]
    },
    {
      "cell_type": "markdown",
      "metadata": {
        "id": "062YdtbgNTyY"
      },
      "source": [
        " <h1>Reading processed data</h1>"
      ]
    },
    {
      "cell_type": "code",
      "metadata": {
        "colab": {
          "base_uri": "https://localhost:8080/"
        },
        "id": "_gKHmUraNUlO",
        "outputId": "4303bda2-5b28-4eb2-c22a-2d423fad1a8b"
      },
      "source": [
        "import pandas as pd\n",
        "import numpy as np\n",
        "\n",
        "\n",
        "X, Y = soil_data[soil_data.columns[1:]], soil_data['Vegetation Cover']\n",
        "\n",
        "\n",
        "print(X[:10])\n",
        "print(X)\n",
        "# Normalizing data\n",
        "from sklearn.preprocessing import MinMaxScaler\n",
        "\n",
        "scaler = MinMaxScaler()\n",
        "X, Y = scaler.fit_transform(X.values), scaler.fit_transform(Y.values.reshape(-1,1))\n",
        "print(X[0])"
      ],
      "execution_count": null,
      "outputs": [
        {
          "output_type": "stream",
          "text": [
            "     NO3   NH4      P     K   SO4     B  ...   Zn   Cu   Fe   Ca   Mg    Na\n",
            "0  23.00  2.25  101.0  32.0  12.0  0.71  ...  1.7  0.3  4.0  6.6  0.8  0.12\n",
            "1   6.00  0.75   58.0  10.0   7.0  0.27  ...  0.8  0.1  1.0  5.0  0.5  0.07\n",
            "2   7.25  1.00  115.0   8.0  10.0  0.56  ...  1.4  0.2  2.0  5.2  0.4  0.04\n",
            "3  21.00  1.25  130.0  30.0  13.0  0.78  ...  1.8  0.3  2.0  6.1  0.7  0.10\n",
            "4   1.75  0.50   17.0   4.0   6.0  0.25  ...  0.3  0.1  1.0  4.7  0.5  0.10\n",
            "5   2.00  0.75   40.0   8.0   6.0  0.24  ...  0.9  0.1  1.0  4.9  0.5  0.09\n",
            "6   1.50  0.25   21.0  12.0   5.0  0.20  ...  0.3  0.1  1.0  5.7  0.4  0.08\n",
            "7  14.75  0.75   53.0  12.0   8.0  0.18  ...  0.8  0.1  1.0  5.6  0.4  0.07\n",
            "8  12.75  2.00   72.0  15.0  10.0  0.64  ...  1.2  0.2  2.0  5.6  0.5  0.08\n",
            "9  18.50  1.75   47.0  21.0   7.0  0.29  ...  0.6  0.1  1.0  5.9  0.5  0.11\n",
            "\n",
            "[10 rows x 14 columns]\n",
            "       NO3   NH4      P     K   SO4      B  ...   Zn   Cu   Fe   Ca   Mg    Na\n",
            "0    23.00  2.25  101.0  32.0  12.0  0.710  ...  1.7  0.3  4.0  6.6  0.8  0.12\n",
            "1     6.00  0.75   58.0  10.0   7.0  0.270  ...  0.8  0.1  1.0  5.0  0.5  0.07\n",
            "2     7.25  1.00  115.0   8.0  10.0  0.560  ...  1.4  0.2  2.0  5.2  0.4  0.04\n",
            "3    21.00  1.25  130.0  30.0  13.0  0.780  ...  1.8  0.3  2.0  6.1  0.7  0.10\n",
            "4     1.75  0.50   17.0   4.0   6.0  0.250  ...  0.3  0.1  1.0  4.7  0.5  0.10\n",
            "..     ...   ...    ...   ...   ...    ...  ...  ...  ...  ...  ...  ...   ...\n",
            "403  14.25  1.75   69.0  14.0  10.0  0.365  ...  0.8  0.1  1.0  5.7  0.5  0.10\n",
            "404  14.25  1.75   69.0  14.0  10.0  0.365  ...  0.8  0.1  1.0  5.7  0.5  0.10\n",
            "405  14.25  1.75   69.0  14.0  10.0  0.365  ...  0.8  0.1  1.0  5.7  0.5  0.10\n",
            "406  14.25  1.75   69.0  14.0  10.0  0.365  ...  0.8  0.1  1.0  5.7  0.5  0.10\n",
            "407  14.25  1.75   69.0  14.0  10.0  0.365  ...  0.8  0.1  1.0  5.7  0.5  0.10\n",
            "\n",
            "[408 rows x 14 columns]\n",
            "[0.0359116  0.14285714 0.56521739 0.175      0.03149606 0.03680276\n",
            " 0.21348315 0.28571429 0.16161616 0.16666667 1.         0.28915663\n",
            " 0.08333333 0.01098901]\n"
          ],
          "name": "stdout"
        }
      ]
    },
    {
      "cell_type": "markdown",
      "metadata": {
        "id": "8JuCGIOykT8n"
      },
      "source": [
        "<h1>Implementing ML models</h1>"
      ]
    },
    {
      "cell_type": "markdown",
      "metadata": {
        "id": "SaDnabMNkXeR"
      },
      "source": [
        "<h3>Useful functions to implement a general model</h3>"
      ]
    },
    {
      "cell_type": "code",
      "metadata": {
        "id": "irT96MsqkeHr"
      },
      "source": [
        "from sklearn.metrics import r2_score\n",
        "\n",
        "def train(model, X, Y):\n",
        "    model.fit(X,Y)\n",
        "    return model\n",
        "\n",
        "def print_metrics(model, X, Y):\n",
        "    \n",
        "    # predicted test data\n",
        "    y_pred = model.predict(X)\n",
        "    \n",
        "    # Mean square Error\n",
        "    mean_square_error = np.sum((y_pred-Y)**2)/len(y_pred)\n",
        "    print('Mean Square Error : ', mean_square_error)\n",
        "    \n",
        "    # Root Mean Square Error\n",
        "    print('Root Mean Square Error : ', mean_square_error**0.5)\n",
        "    \n",
        "    # Mean absolute Error\n",
        "    print('Mean Absolute Error : ', np.abs(Y - y_pred).sum()/len(y_pred))\n",
        "    \n",
        "    # R2 Score\n",
        "    print('R2 Score : ', r2_score(Y, y_pred))\n",
        "\n",
        "    print('Accuracy : ',model.score(X,Y))\n",
        "    "
      ],
      "execution_count": null,
      "outputs": []
    },
    {
      "cell_type": "markdown",
      "metadata": {
        "id": "9eF_c1pPkz98"
      },
      "source": [
        "<h3>Spliting data into train and test set</h3>"
      ]
    },
    {
      "cell_type": "code",
      "metadata": {
        "colab": {
          "base_uri": "https://localhost:8080/"
        },
        "id": "BpP5Jzlmk3x5",
        "outputId": "bd808959-2f90-42b9-d2c9-97a4aa160307"
      },
      "source": [
        "from sklearn.model_selection import train_test_split\n",
        "\n",
        "X_train, X_test, Y_train, Y_test = train_test_split(X,Y, test_size=0.10, random_state=43)\n",
        "print(X_train)"
      ],
      "execution_count": null,
      "outputs": [
        {
          "output_type": "stream",
          "text": [
            "[[0.04143646 0.17857143 0.33540373 ... 0.18072289 0.01666667 0.002442  ]\n",
            " [0.24309392 0.60714286 0.69565217 ... 0.39759036 0.91666667 0.87545788]\n",
            " [0.01144436 0.03571429 0.36645963 ... 0.1686747  0.         0.        ]\n",
            " ...\n",
            " [0.04459353 0.46428571 0.52795031 ... 0.18072289 0.03333333 0.01098901]\n",
            " [0.24664562 0.85714286 0.82608696 ... 0.53012048 0.7        0.20757021]\n",
            " [0.35280189 0.73214286 0.75776398 ... 0.25301205 0.2        0.05494505]]\n"
          ],
          "name": "stdout"
        }
      ]
    },
    {
      "cell_type": "markdown",
      "metadata": {
        "id": "Sdi6aHPLU8Sf"
      },
      "source": [
        "<h2>Implement Linear Model</h2>\n"
      ]
    },
    {
      "cell_type": "code",
      "metadata": {
        "colab": {
          "base_uri": "https://localhost:8080/"
        },
        "id": "TouhUlneVDKY",
        "outputId": "75582bd5-12ea-46ba-8418-f2c7aad2c849"
      },
      "source": [
        "from sklearn.linear_model import LinearRegression\n",
        "linearModel = LinearRegression()\n",
        "\n",
        "# training\n",
        "linearModel = train(linearModel,X_train,Y_train)\n",
        "\n",
        "#print metrics\n",
        "print_metrics(linearModel, X_test, Y_test)\n",
        "\n",
        "\n",
        "with open('Linear Model','wb') as f:\n",
        "  pickle.dump(linearModel,f)"
      ],
      "execution_count": null,
      "outputs": [
        {
          "output_type": "stream",
          "text": [
            "Mean Square Error :  0.06408862709336129\n",
            "Root Mean Square Error :  0.25315731688687426\n",
            "Mean Absolute Error :  0.22957674983558457\n",
            "R2 Score :  0.1239426007049349\n",
            "Accuracy :  0.1239426007049349\n"
          ],
          "name": "stdout"
        }
      ]
    },
    {
      "cell_type": "markdown",
      "metadata": {
        "id": "iirdUqnao12j"
      },
      "source": [
        "<h2>Implement SVR</h2>"
      ]
    },
    {
      "cell_type": "code",
      "metadata": {
        "colab": {
          "base_uri": "https://localhost:8080/"
        },
        "id": "MchBr1RQpDnu",
        "outputId": "483a1442-314c-469a-957f-831c831f34a6"
      },
      "source": [
        "from sklearn.svm import SVR\n",
        "\n",
        "\n",
        "# linear Model\n",
        "svr_linear = SVR(kernel='linear', C=10, epsilon=0.4)\n",
        "\n",
        "# RBF kernel\n",
        "svr_rbf = SVR(kernel='rbf', C=10, gamma=1)\n",
        "\n",
        "# non-linear model\n",
        "svr_poly = SVR(kernel='poly', degree=2, C=650, epsilon=0.3)\n",
        "\n",
        "\n",
        "print('Kernel : Linear')\n",
        "svr_linear = train(svr_linear,X_train,Y_train)\n",
        "print_metrics(svr_linear, X_test, Y_test)\n",
        "\n",
        "with open('SVR (Linear)','wb') as f:\n",
        "  pickle.dump(svr_linear,f)\n",
        "\n",
        "print('\\n')\n",
        "print('Kernel : RBF')\n",
        "svr_rbf = train(svr_rbf,X_train,Y_train)\n",
        "print_metrics(svr_rbf, X_test, Y_test)\n",
        "\n",
        "with open('SVR (RBF)','wb') as f:\n",
        "  pickle.dump(svr_rbf,f)\n",
        "\n",
        "print(\"\\n\")\n",
        "print('Kernel : Poly')\n",
        "svr_poly = train(svr_poly,X_train,Y_train)\n",
        "print_metrics(svr_poly, X_test, Y_test)\n",
        "\n",
        "with open('SVR (Poly)','wb') as f:\n",
        "  pickle.dump(svr_poly,f)"
      ],
      "execution_count": null,
      "outputs": [
        {
          "output_type": "stream",
          "text": [
            "Kernel : Linear\n",
            "Mean Square Error :  3.5480091480607845\n",
            "Root Mean Square Error :  1.8836159768012122\n",
            "Mean Absolute Error :  10.095033264191088\n",
            "R2 Score :  0.09024684710747155\n",
            "Accuracy :  0.09024684710747156\n",
            "\n",
            "\n",
            "Kernel : RBF\n",
            "Mean Square Error :  4.659727530982829\n",
            "Root Mean Square Error :  2.158640204152334\n",
            "Mean Absolute Error :  11.31482638832509\n",
            "R2 Score :  0.7080870518709772\n",
            "Accuracy :  0.7080870518709773\n",
            "\n",
            "\n",
            "Kernel : Poly\n"
          ],
          "name": "stdout"
        },
        {
          "output_type": "stream",
          "text": [
            "/usr/local/lib/python3.7/dist-packages/sklearn/utils/validation.py:760: DataConversionWarning: A column-vector y was passed when a 1d array was expected. Please change the shape of y to (n_samples, ), for example using ravel().\n",
            "  y = column_or_1d(y, warn=True)\n",
            "/usr/local/lib/python3.7/dist-packages/sklearn/utils/validation.py:760: DataConversionWarning: A column-vector y was passed when a 1d array was expected. Please change the shape of y to (n_samples, ), for example using ravel().\n",
            "  y = column_or_1d(y, warn=True)\n",
            "/usr/local/lib/python3.7/dist-packages/sklearn/utils/validation.py:760: DataConversionWarning: A column-vector y was passed when a 1d array was expected. Please change the shape of y to (n_samples, ), for example using ravel().\n",
            "  y = column_or_1d(y, warn=True)\n"
          ],
          "name": "stderr"
        },
        {
          "output_type": "stream",
          "text": [
            "Mean Square Error :  4.797822240899022\n",
            "Root Mean Square Error :  2.1903931703917956\n",
            "Mean Absolute Error :  11.430535210079025\n",
            "R2 Score :  0.16107967119463518\n",
            "Accuracy :  0.16107967119463518\n"
          ],
          "name": "stdout"
        }
      ]
    },
    {
      "cell_type": "markdown",
      "metadata": {
        "id": "LQtAFGPMnflo"
      },
      "source": [
        "<h2>DecisionTreeRegressor</h2>"
      ]
    },
    {
      "cell_type": "code",
      "metadata": {
        "colab": {
          "base_uri": "https://localhost:8080/"
        },
        "id": "ZYP1UMwWcadj",
        "outputId": "b29289c3-05dc-49f6-94e3-068948ec345a"
      },
      "source": [
        "from sklearn.tree import export_graphviz\n",
        "import pydotplus\n",
        "from sklearn.tree import DecisionTreeRegressor\n",
        "\n",
        "treeRegressor = DecisionTreeRegressor(criterion='mse', max_depth=8, min_samples_leaf=5)\n",
        "\n",
        "#training\n",
        "treeRegressor = train(treeRegressor, X_train, Y_train)\n",
        "\n",
        "#print metrics\n",
        "print_metrics(treeRegressor, X_test, Y_test)\n",
        "#print(export_graphviz(treeRegressor))\n",
        "with open('Decision Tree Regression','wb') as f:\n",
        "  pickle.dump(treeRegressor,f)"
      ],
      "execution_count": null,
      "outputs": [
        {
          "output_type": "stream",
          "text": [
            "Mean Square Error :  5.8652772331021374\n",
            "Root Mean Square Error :  2.421833444541994\n",
            "Mean Absolute Error :  12.687004706560867\n",
            "R2 Score :  0.8326677685995288\n",
            "Accuracy :  0.832667768599529\n"
          ],
          "name": "stdout"
        }
      ]
    },
    {
      "cell_type": "markdown",
      "metadata": {
        "id": "R88EyhsHTpNw"
      },
      "source": [
        "<h2>Implement Random Forest Regressor</h2>"
      ]
    },
    {
      "cell_type": "code",
      "metadata": {
        "colab": {
          "base_uri": "https://localhost:8080/"
        },
        "id": "EQEgbkYBTp5T",
        "outputId": "aa30f63f-cabc-4947-8659-28d580ffe6f3"
      },
      "source": [
        "from sklearn.ensemble import RandomForestRegressor\n",
        "\n",
        "forestRegressor = RandomForestRegressor(criterion='mse', max_depth=7, n_estimators=10, random_state=0)\n",
        "\n",
        "#training \n",
        "forestRegressor = train(forestRegressor, X_train, Y_train)\n",
        "#print metrics\n",
        "print_metrics(forestRegressor, X_test, Y_test)\n",
        "\n",
        "with open('Random Forest Regression','wb') as f:\n",
        "  pickle.dump(forestRegressor,f)\n"
      ],
      "execution_count": null,
      "outputs": [
        {
          "output_type": "stream",
          "text": [
            "Mean Square Error :  5.349288860203913\n",
            "Root Mean Square Error :  2.3128529698629596\n",
            "Mean Absolute Error :  12.040661337831951\n",
            "R2 Score :  0.9296642913809817\n",
            "Accuracy :  0.9296642913809817\n"
          ],
          "name": "stdout"
        },
        {
          "output_type": "stream",
          "text": [
            "/usr/local/lib/python3.7/dist-packages/ipykernel_launcher.py:4: DataConversionWarning: A column-vector y was passed when a 1d array was expected. Please change the shape of y to (n_samples,), for example using ravel().\n",
            "  after removing the cwd from sys.path.\n"
          ],
          "name": "stderr"
        }
      ]
    }
  ]
}